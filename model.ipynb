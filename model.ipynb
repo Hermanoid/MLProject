{
 "cells": [
  {
   "cell_type": "code",
   "execution_count": 2,
   "metadata": {},
   "outputs": [],
   "source": [
    "import pandas as pd\n",
    "import numpy as np\n",
    "from sklearn.model_selection import train_test_split\n",
    "import tensorflow as tf\n",
    "from tensorflow import keras\n",
    "from tensorflow.keras.preprocessing import sequence\n",
    "import os\n",
    "import nltk\n",
    "from nltk.stem.wordnet import WordNetLemmatizer"
   ]
  },
  {
   "cell_type": "code",
   "execution_count": 3,
   "metadata": {},
   "outputs": [
    {
     "name": "stderr",
     "output_type": "stream",
     "text": [
      "[nltk_data] Downloading package punkt to\n",
      "[nltk_data]     C:\\Users\\lucas\\AppData\\Roaming\\nltk_data...\n",
      "[nltk_data]   Package punkt is already up-to-date!\n",
      "[nltk_data] Downloading package wordnet to\n",
      "[nltk_data]     C:\\Users\\lucas\\AppData\\Roaming\\nltk_data...\n",
      "[nltk_data]   Package wordnet is already up-to-date!\n",
      "[nltk_data] Downloading package stopwords to\n",
      "[nltk_data]     C:\\Users\\lucas\\AppData\\Roaming\\nltk_data...\n",
      "[nltk_data]   Package stopwords is already up-to-date!\n"
     ]
    },
    {
     "data": {
      "text/plain": [
       "True"
      ]
     },
     "execution_count": 3,
     "metadata": {},
     "output_type": "execute_result"
    }
   ],
   "source": [
    "# People are always telling me \"I like my disk space, please don't use all my disk space\"\n",
    "# such a drag\n",
    "nltk.download('punkt')\n",
    "nltk.download('wordnet')\n",
    "nltk.download('stopwords')"
   ]
  },
  {
   "cell_type": "code",
   "execution_count": 6,
   "metadata": {},
   "outputs": [
    {
     "name": "stdout",
     "output_type": "stream",
     "text": [
      "Training Set Shape = (7613, 5)\n",
      "Training Set Memory Usage = 0.29 MB\n",
      "Test Set Shape = (3263, 4)\n",
      "Test Set Memory Usage = 0.10 MB\n"
     ]
    },
    {
     "data": {
      "text/html": [
       "<div>\n",
       "<style scoped>\n",
       "    .dataframe tbody tr th:only-of-type {\n",
       "        vertical-align: middle;\n",
       "    }\n",
       "\n",
       "    .dataframe tbody tr th {\n",
       "        vertical-align: top;\n",
       "    }\n",
       "\n",
       "    .dataframe thead th {\n",
       "        text-align: right;\n",
       "    }\n",
       "</style>\n",
       "<table border=\"1\" class=\"dataframe\">\n",
       "  <thead>\n",
       "    <tr style=\"text-align: right;\">\n",
       "      <th></th>\n",
       "      <th>id</th>\n",
       "      <th>keyword</th>\n",
       "      <th>location</th>\n",
       "      <th>text</th>\n",
       "      <th>target</th>\n",
       "    </tr>\n",
       "  </thead>\n",
       "  <tbody>\n",
       "    <tr>\n",
       "      <th>0</th>\n",
       "      <td>1</td>\n",
       "      <td>NaN</td>\n",
       "      <td>NaN</td>\n",
       "      <td>Our Deeds are the Reason of this #earthquake M...</td>\n",
       "      <td>1</td>\n",
       "    </tr>\n",
       "    <tr>\n",
       "      <th>1</th>\n",
       "      <td>4</td>\n",
       "      <td>NaN</td>\n",
       "      <td>NaN</td>\n",
       "      <td>Forest fire near La Ronge Sask. Canada</td>\n",
       "      <td>1</td>\n",
       "    </tr>\n",
       "    <tr>\n",
       "      <th>2</th>\n",
       "      <td>5</td>\n",
       "      <td>NaN</td>\n",
       "      <td>NaN</td>\n",
       "      <td>All residents asked to 'shelter in place' are ...</td>\n",
       "      <td>1</td>\n",
       "    </tr>\n",
       "    <tr>\n",
       "      <th>3</th>\n",
       "      <td>6</td>\n",
       "      <td>NaN</td>\n",
       "      <td>NaN</td>\n",
       "      <td>13,000 people receive #wildfires evacuation or...</td>\n",
       "      <td>1</td>\n",
       "    </tr>\n",
       "    <tr>\n",
       "      <th>4</th>\n",
       "      <td>7</td>\n",
       "      <td>NaN</td>\n",
       "      <td>NaN</td>\n",
       "      <td>Just got sent this photo from Ruby #Alaska as ...</td>\n",
       "      <td>1</td>\n",
       "    </tr>\n",
       "  </tbody>\n",
       "</table>\n",
       "</div>"
      ],
      "text/plain": [
       "   id keyword location                                               text  \\\n",
       "0   1     NaN      NaN  Our Deeds are the Reason of this #earthquake M...   \n",
       "1   4     NaN      NaN             Forest fire near La Ronge Sask. Canada   \n",
       "2   5     NaN      NaN  All residents asked to 'shelter in place' are ...   \n",
       "3   6     NaN      NaN  13,000 people receive #wildfires evacuation or...   \n",
       "4   7     NaN      NaN  Just got sent this photo from Ruby #Alaska as ...   \n",
       "\n",
       "   target  \n",
       "0       1  \n",
       "1       1  \n",
       "2       1  \n",
       "3       1  \n",
       "4       1  "
      ]
     },
     "execution_count": 6,
     "metadata": {},
     "output_type": "execute_result"
    }
   ],
   "source": [
    "df = pd.read_csv(\"dataset/train.csv\")\n",
    "df_test = pd.read_csv(\"dataset/test.csv\") # Test dataset has no target, we'll need to do a validation split\n",
    "\n",
    "print('Training Set Shape = {}'.format(df.shape))\n",
    "print('Training Set Memory Usage = {:.2f} MB'.format(df.memory_usage().sum() / 1024**2))\n",
    "print('Test Set Shape = {}'.format(df_test.shape))\n",
    "print('Test Set Memory Usage = {:.2f} MB'.format(df_test.memory_usage().sum() / 1024**2))\n",
    "df.head()"
   ]
  },
  {
   "cell_type": "code",
   "execution_count": 44,
   "metadata": {},
   "outputs": [
    {
     "name": "stdout",
     "output_type": "stream",
     "text": [
      "   id keyword location                                               text  \\\n",
      "0   1     NaN      NaN       Deeds Reason earthquake May ALLAH Forgive us   \n",
      "1   4     NaN      NaN              Forest fire near La Ronge Sask Canada   \n",
      "2   5     NaN      NaN  residents asked shelter place notified officer...   \n",
      "3   6     NaN      NaN  13000 people receive wildfires evacuation orde...   \n",
      "4   7     NaN      NaN  got sent photo Ruby Alaska smoke wildfires pou...   \n",
      "\n",
      "   target  \n",
      "0       1  \n",
      "1       1  \n",
      "2       1  \n",
      "3       1  \n",
      "4       1  \n"
     ]
    }
   ],
   "source": [
    "# Largely borrowed from https://www.kaggle.com/code/dhan29/elmo-imdb-text-classification\n",
    "import re\n",
    "from nltk.tokenize import ToktokTokenizer\n",
    "from nltk.corpus import stopwords\n",
    "from nltk.stem import WordNetLemmatizer\n",
    "\n",
    "df_prep = df.copy()\n",
    "\n",
    "#Apply function on review column (yeet anything that isn't a letter, number, or space)\n",
    "df_prep['text']=df['text'].str.replace(r'[^a-zA-z0-9\\s]', '', regex=True)\n",
    "\n",
    "#Tokenization of text\n",
    "# tokenizer=ToktokTokenizer()\n",
    "\n",
    "#set stopwords to english and yeet them too\n",
    "stopword_list = set(stopwords.words('english'))\n",
    "df_prep[\"text\"] = df_prep[\"text\"].str.split().apply(lambda x: ' '.join(k for k in x if k.lower() not in stopword_list))\n",
    "\n",
    "\n",
    "# Initialize the WordNet Lemmatizer\n",
    "lemmatizer = WordNetLemmatizer()\n",
    "\n",
    "# Define a function to perform lemmatization on a single text\n",
    "\n",
    "# df_prep[\"text\"] = df_prep[\"text\"].apply(lambda x: \" \".join([lemmatizer.lemmatize(word) for word in nltk.word_tokenize(x)]))\n",
    "\n",
    "# Print the lemmatized DataFrame\n",
    "print(df_prep.head())\n",
    "\n"
   ]
  },
  {
   "cell_type": "code",
   "execution_count": 10,
   "metadata": {},
   "outputs": [],
   "source": [
    "text = df_prep['text']\n",
    "target = df_prep['target']\n",
    "\n",
    "\n",
    "X_train, X_val, y_train, y_val = train_test_split(text, target, test_size=0.2, random_state=42)"
   ]
  },
  {
   "cell_type": "code",
   "execution_count": 11,
   "metadata": {},
   "outputs": [
    {
     "data": {
      "text/plain": [
       "4996    Courageous and honest analysis of need to use ...\n",
       "3263    ZachZaidman 670TheScore wld b a shame if that ...\n",
       "4907    Tell BarackObama to rescind medals of honor gi...\n",
       "2855    Worried about how the CA drought might affect ...\n",
       "4716    YoungHeroesID Lava Blast amp Power Red Panther...\n",
       "Name: text, dtype: object"
      ]
     },
     "execution_count": 11,
     "metadata": {},
     "output_type": "execute_result"
    }
   ],
   "source": [
    "X_train.head()"
   ]
  },
  {
   "cell_type": "code",
   "execution_count": 12,
   "metadata": {},
   "outputs": [
    {
     "name": "stdout",
     "output_type": "stream",
     "text": [
      "WARNING:tensorflow:From C:\\Users\\lucas\\AppData\\Local\\Packages\\PythonSoftwareFoundation.Python.3.11_qbz5n2kfra8p0\\LocalCache\\local-packages\\Python311\\site-packages\\tf_keras\\src\\losses.py:2976: The name tf.losses.sparse_softmax_cross_entropy is deprecated. Please use tf.compat.v1.losses.sparse_softmax_cross_entropy instead.\n",
      "\n",
      "WARNING:tensorflow:From C:\\Users\\lucas\\AppData\\Local\\Packages\\PythonSoftwareFoundation.Python.3.11_qbz5n2kfra8p0\\LocalCache\\local-packages\\Python311\\site-packages\\tensorflow_hub\\resolver.py:120: The name tf.gfile.MakeDirs is deprecated. Please use tf.io.gfile.makedirs instead.\n",
      "\n"
     ]
    },
    {
     "name": "stderr",
     "output_type": "stream",
     "text": [
      "WARNING:tensorflow:From C:\\Users\\lucas\\AppData\\Local\\Packages\\PythonSoftwareFoundation.Python.3.11_qbz5n2kfra8p0\\LocalCache\\local-packages\\Python311\\site-packages\\tensorflow_hub\\resolver.py:120: The name tf.gfile.MakeDirs is deprecated. Please use tf.io.gfile.makedirs instead.\n",
      "\n"
     ]
    },
    {
     "name": "stdout",
     "output_type": "stream",
     "text": [
      "WARNING:tensorflow:From C:\\Users\\lucas\\AppData\\Local\\Packages\\PythonSoftwareFoundation.Python.3.11_qbz5n2kfra8p0\\LocalCache\\local-packages\\Python311\\site-packages\\tensorflow_hub\\module_v2.py:126: The name tf.saved_model.load_v2 is deprecated. Please use tf.compat.v2.saved_model.load instead.\n",
      "\n"
     ]
    },
    {
     "name": "stderr",
     "output_type": "stream",
     "text": [
      "WARNING:tensorflow:From C:\\Users\\lucas\\AppData\\Local\\Packages\\PythonSoftwareFoundation.Python.3.11_qbz5n2kfra8p0\\LocalCache\\local-packages\\Python311\\site-packages\\tensorflow_hub\\module_v2.py:126: The name tf.saved_model.load_v2 is deprecated. Please use tf.compat.v2.saved_model.load instead.\n",
      "\n"
     ]
    }
   ],
   "source": [
    "import tensorflow_hub as hub\n",
    "\n",
    "elmo = hub.load(\"https://tfhub.dev/google/elmo/2\").signatures[\"default\"]"
   ]
  },
  {
   "cell_type": "code",
   "execution_count": 60,
   "metadata": {},
   "outputs": [],
   "source": [
    "# Use the ELMo model to convert text to vector embeddings\n",
    "# This was way harder to figure out than it needed to be.\n",
    "# Side note: this will murder your computer.\n",
    "import itertools\n",
    "\n",
    "max_len = 25\n",
    "batch_size = 128\n",
    "\n",
    "def embed_elmo(text, signature=\"default\"):\n",
    "    text_clipped = text.str.split(n=max_len).str[:max_len].str.join(' ')\n",
    "    n = len(text_clipped)\n",
    "    embeddings = []\n",
    "    for i, batch in enumerate(np.array_split(text_clipped.to_numpy(), n//batch_size)):\n",
    "        print(f\"Batch {i}/{n//batch_size}\", end=\"\\r\")\n",
    "        # Default signature does mean-pooling of all words\n",
    "        # It's actually designed for un-tokenized data, I'm not sure if my preprocessing is actually helpful\n",
    "        batch_out = elmo(tf.constant(batch))[signature]\n",
    "        embeddings.append(batch_out)\n",
    "    print()\n",
    "    return list(itertools.chain(*embeddings))"
   ]
  },
  {
   "cell_type": "code",
   "execution_count": 61,
   "metadata": {},
   "outputs": [
    {
     "name": "stdout",
     "output_type": "stream",
     "text": [
      "Batch 46/47\n",
      "Batch 10/11\n"
     ]
    }
   ],
   "source": [
    "X_train_embed = embed_elmo(X_train, signature=\"default\")\n",
    "X_val_embed = embed_elmo(X_val, signature=\"default\")"
   ]
  },
  {
   "cell_type": "code",
   "execution_count": 16,
   "metadata": {},
   "outputs": [],
   "source": [
    "# Padding for elmo embeddings (not needed for default)\n",
    "# pad_seq = np.array(X_train_embed[0].numpy()[-1])\n",
    "# pad_size = max_len\n",
    "# def pad(X):\n",
    "#     return np.array([\n",
    "#         np.concatenate([X_elem.numpy(), np.repeat([pad_seq], pad_size - X_elem.shape[0], axis=0)]) for X_elem in X\n",
    "#     ])\n"
   ]
  },
  {
   "cell_type": "code",
   "execution_count": 63,
   "metadata": {},
   "outputs": [
    {
     "data": {
      "text/plain": [
       "(6090, 1024)"
      ]
     },
     "execution_count": 63,
     "metadata": {},
     "output_type": "execute_result"
    }
   ],
   "source": [
    "# X_train_padded = pad(X_train_embed)\n",
    "# X_val_padded = pad(X_val_embed)\n",
    "X_train_padded = np.array([x.numpy() for x in X_train_embed])\n",
    "X_val_padded = np.array([x.numpy() for x in X_val_embed])\n",
    "X_train_padded.shape"
   ]
  },
  {
   "cell_type": "code",
   "execution_count": 66,
   "metadata": {},
   "outputs": [
    {
     "data": {
      "text/html": [
       "<pre style=\"white-space:pre;overflow-x:auto;line-height:normal;font-family:Menlo,'DejaVu Sans Mono',consolas,'Courier New',monospace\"><span style=\"font-weight: bold\">Model: \"sequential_22\"</span>\n",
       "</pre>\n"
      ],
      "text/plain": [
       "\u001b[1mModel: \"sequential_22\"\u001b[0m\n"
      ]
     },
     "metadata": {},
     "output_type": "display_data"
    },
    {
     "data": {
      "text/html": [
       "<pre style=\"white-space:pre;overflow-x:auto;line-height:normal;font-family:Menlo,'DejaVu Sans Mono',consolas,'Courier New',monospace\">┏━━━━━━━━━━━━━━━━━━━━━━━━━━━━━━━━━┳━━━━━━━━━━━━━━━━━━━━━━━━┳━━━━━━━━━━━━━━━┓\n",
       "┃<span style=\"font-weight: bold\"> Layer (type)                    </span>┃<span style=\"font-weight: bold\"> Output Shape           </span>┃<span style=\"font-weight: bold\">       Param # </span>┃\n",
       "┡━━━━━━━━━━━━━━━━━━━━━━━━━━━━━━━━━╇━━━━━━━━━━━━━━━━━━━━━━━━╇━━━━━━━━━━━━━━━┩\n",
       "│ dense_29 (<span style=\"color: #0087ff; text-decoration-color: #0087ff\">Dense</span>)                │ (<span style=\"color: #00d7ff; text-decoration-color: #00d7ff\">None</span>, <span style=\"color: #00af00; text-decoration-color: #00af00\">128</span>)            │       <span style=\"color: #00af00; text-decoration-color: #00af00\">131,200</span> │\n",
       "├─────────────────────────────────┼────────────────────────┼───────────────┤\n",
       "│ dropout_7 (<span style=\"color: #0087ff; text-decoration-color: #0087ff\">Dropout</span>)             │ (<span style=\"color: #00d7ff; text-decoration-color: #00d7ff\">None</span>, <span style=\"color: #00af00; text-decoration-color: #00af00\">128</span>)            │             <span style=\"color: #00af00; text-decoration-color: #00af00\">0</span> │\n",
       "├─────────────────────────────────┼────────────────────────┼───────────────┤\n",
       "│ dense_30 (<span style=\"color: #0087ff; text-decoration-color: #0087ff\">Dense</span>)                │ (<span style=\"color: #00d7ff; text-decoration-color: #00d7ff\">None</span>, <span style=\"color: #00af00; text-decoration-color: #00af00\">16</span>)             │         <span style=\"color: #00af00; text-decoration-color: #00af00\">2,064</span> │\n",
       "├─────────────────────────────────┼────────────────────────┼───────────────┤\n",
       "│ dropout_8 (<span style=\"color: #0087ff; text-decoration-color: #0087ff\">Dropout</span>)             │ (<span style=\"color: #00d7ff; text-decoration-color: #00d7ff\">None</span>, <span style=\"color: #00af00; text-decoration-color: #00af00\">16</span>)             │             <span style=\"color: #00af00; text-decoration-color: #00af00\">0</span> │\n",
       "├─────────────────────────────────┼────────────────────────┼───────────────┤\n",
       "│ dense_31 (<span style=\"color: #0087ff; text-decoration-color: #0087ff\">Dense</span>)                │ (<span style=\"color: #00d7ff; text-decoration-color: #00d7ff\">None</span>, <span style=\"color: #00af00; text-decoration-color: #00af00\">1</span>)              │            <span style=\"color: #00af00; text-decoration-color: #00af00\">17</span> │\n",
       "└─────────────────────────────────┴────────────────────────┴───────────────┘\n",
       "</pre>\n"
      ],
      "text/plain": [
       "┏━━━━━━━━━━━━━━━━━━━━━━━━━━━━━━━━━┳━━━━━━━━━━━━━━━━━━━━━━━━┳━━━━━━━━━━━━━━━┓\n",
       "┃\u001b[1m \u001b[0m\u001b[1mLayer (type)                   \u001b[0m\u001b[1m \u001b[0m┃\u001b[1m \u001b[0m\u001b[1mOutput Shape          \u001b[0m\u001b[1m \u001b[0m┃\u001b[1m \u001b[0m\u001b[1m      Param #\u001b[0m\u001b[1m \u001b[0m┃\n",
       "┡━━━━━━━━━━━━━━━━━━━━━━━━━━━━━━━━━╇━━━━━━━━━━━━━━━━━━━━━━━━╇━━━━━━━━━━━━━━━┩\n",
       "│ dense_29 (\u001b[38;5;33mDense\u001b[0m)                │ (\u001b[38;5;45mNone\u001b[0m, \u001b[38;5;34m128\u001b[0m)            │       \u001b[38;5;34m131,200\u001b[0m │\n",
       "├─────────────────────────────────┼────────────────────────┼───────────────┤\n",
       "│ dropout_7 (\u001b[38;5;33mDropout\u001b[0m)             │ (\u001b[38;5;45mNone\u001b[0m, \u001b[38;5;34m128\u001b[0m)            │             \u001b[38;5;34m0\u001b[0m │\n",
       "├─────────────────────────────────┼────────────────────────┼───────────────┤\n",
       "│ dense_30 (\u001b[38;5;33mDense\u001b[0m)                │ (\u001b[38;5;45mNone\u001b[0m, \u001b[38;5;34m16\u001b[0m)             │         \u001b[38;5;34m2,064\u001b[0m │\n",
       "├─────────────────────────────────┼────────────────────────┼───────────────┤\n",
       "│ dropout_8 (\u001b[38;5;33mDropout\u001b[0m)             │ (\u001b[38;5;45mNone\u001b[0m, \u001b[38;5;34m16\u001b[0m)             │             \u001b[38;5;34m0\u001b[0m │\n",
       "├─────────────────────────────────┼────────────────────────┼───────────────┤\n",
       "│ dense_31 (\u001b[38;5;33mDense\u001b[0m)                │ (\u001b[38;5;45mNone\u001b[0m, \u001b[38;5;34m1\u001b[0m)              │            \u001b[38;5;34m17\u001b[0m │\n",
       "└─────────────────────────────────┴────────────────────────┴───────────────┘\n"
      ]
     },
     "metadata": {},
     "output_type": "display_data"
    },
    {
     "data": {
      "text/html": [
       "<pre style=\"white-space:pre;overflow-x:auto;line-height:normal;font-family:Menlo,'DejaVu Sans Mono',consolas,'Courier New',monospace\"><span style=\"font-weight: bold\"> Total params: </span><span style=\"color: #00af00; text-decoration-color: #00af00\">133,281</span> (520.63 KB)\n",
       "</pre>\n"
      ],
      "text/plain": [
       "\u001b[1m Total params: \u001b[0m\u001b[38;5;34m133,281\u001b[0m (520.63 KB)\n"
      ]
     },
     "metadata": {},
     "output_type": "display_data"
    },
    {
     "data": {
      "text/html": [
       "<pre style=\"white-space:pre;overflow-x:auto;line-height:normal;font-family:Menlo,'DejaVu Sans Mono',consolas,'Courier New',monospace\"><span style=\"font-weight: bold\"> Trainable params: </span><span style=\"color: #00af00; text-decoration-color: #00af00\">133,281</span> (520.63 KB)\n",
       "</pre>\n"
      ],
      "text/plain": [
       "\u001b[1m Trainable params: \u001b[0m\u001b[38;5;34m133,281\u001b[0m (520.63 KB)\n"
      ]
     },
     "metadata": {},
     "output_type": "display_data"
    },
    {
     "data": {
      "text/html": [
       "<pre style=\"white-space:pre;overflow-x:auto;line-height:normal;font-family:Menlo,'DejaVu Sans Mono',consolas,'Courier New',monospace\"><span style=\"font-weight: bold\"> Non-trainable params: </span><span style=\"color: #00af00; text-decoration-color: #00af00\">0</span> (0.00 B)\n",
       "</pre>\n"
      ],
      "text/plain": [
       "\u001b[1m Non-trainable params: \u001b[0m\u001b[38;5;34m0\u001b[0m (0.00 B)\n"
      ]
     },
     "metadata": {},
     "output_type": "display_data"
    },
    {
     "name": "stdout",
     "output_type": "stream",
     "text": [
      "Epoch 1/50\n",
      "\u001b[1m191/191\u001b[0m \u001b[32m━━━━━━━━━━━━━━━━━━━━\u001b[0m\u001b[37m\u001b[0m \u001b[1m3s\u001b[0m 5ms/step - accuracy: 0.6728 - loss: 0.5940 - precision: 0.6300 - recall: 0.5796 - val_accuracy: 0.8102 - val_loss: 0.4303 - val_precision: 0.7778 - val_recall: 0.7766\n",
      "Epoch 2/50\n",
      "\u001b[1m191/191\u001b[0m \u001b[32m━━━━━━━━━━━━━━━━━━━━\u001b[0m\u001b[37m\u001b[0m \u001b[1m1s\u001b[0m 3ms/step - accuracy: 0.7840 - loss: 0.4824 - precision: 0.7819 - recall: 0.6657 - val_accuracy: 0.8188 - val_loss: 0.4218 - val_precision: 0.8103 - val_recall: 0.7504\n",
      "Epoch 3/50\n",
      "\u001b[1m191/191\u001b[0m \u001b[32m━━━━━━━━━━━━━━━━━━━━\u001b[0m\u001b[37m\u001b[0m \u001b[1m1s\u001b[0m 3ms/step - accuracy: 0.8043 - loss: 0.4494 - precision: 0.8099 - recall: 0.7127 - val_accuracy: 0.8293 - val_loss: 0.4144 - val_precision: 0.8867 - val_recall: 0.6872\n",
      "Epoch 4/50\n",
      "\u001b[1m191/191\u001b[0m \u001b[32m━━━━━━━━━━━━━━━━━━━━\u001b[0m\u001b[37m\u001b[0m \u001b[1m1s\u001b[0m 3ms/step - accuracy: 0.8080 - loss: 0.4352 - precision: 0.8289 - recall: 0.7089 - val_accuracy: 0.8234 - val_loss: 0.4174 - val_precision: 0.8626 - val_recall: 0.6965\n",
      "Epoch 5/50\n",
      "\u001b[1m191/191\u001b[0m \u001b[32m━━━━━━━━━━━━━━━━━━━━\u001b[0m\u001b[37m\u001b[0m \u001b[1m1s\u001b[0m 3ms/step - accuracy: 0.8030 - loss: 0.4508 - precision: 0.8302 - recall: 0.6824 - val_accuracy: 0.8319 - val_loss: 0.4084 - val_precision: 0.8515 - val_recall: 0.7334\n",
      "Epoch 6/50\n",
      "\u001b[1m191/191\u001b[0m \u001b[32m━━━━━━━━━━━━━━━━━━━━\u001b[0m\u001b[37m\u001b[0m \u001b[1m1s\u001b[0m 3ms/step - accuracy: 0.8167 - loss: 0.4138 - precision: 0.8425 - recall: 0.7094 - val_accuracy: 0.8214 - val_loss: 0.4119 - val_precision: 0.8075 - val_recall: 0.7627\n",
      "Epoch 7/50\n",
      "\u001b[1m191/191\u001b[0m \u001b[32m━━━━━━━━━━━━━━━━━━━━\u001b[0m\u001b[37m\u001b[0m \u001b[1m1s\u001b[0m 3ms/step - accuracy: 0.8019 - loss: 0.4294 - precision: 0.8339 - recall: 0.6890 - val_accuracy: 0.8280 - val_loss: 0.4181 - val_precision: 0.8832 - val_recall: 0.6872\n",
      "Epoch 8/50\n",
      "\u001b[1m191/191\u001b[0m \u001b[32m━━━━━━━━━━━━━━━━━━━━\u001b[0m\u001b[37m\u001b[0m \u001b[1m1s\u001b[0m 3ms/step - accuracy: 0.8265 - loss: 0.4066 - precision: 0.8585 - recall: 0.7029 - val_accuracy: 0.8234 - val_loss: 0.4131 - val_precision: 0.8167 - val_recall: 0.7550\n",
      "Epoch 9/50\n",
      "\u001b[1m191/191\u001b[0m \u001b[32m━━━━━━━━━━━━━━━━━━━━\u001b[0m\u001b[37m\u001b[0m \u001b[1m1s\u001b[0m 3ms/step - accuracy: 0.8358 - loss: 0.3855 - precision: 0.8728 - recall: 0.7246 - val_accuracy: 0.8280 - val_loss: 0.4169 - val_precision: 0.8241 - val_recall: 0.7581\n",
      "Epoch 10/50\n",
      "\u001b[1m191/191\u001b[0m \u001b[32m━━━━━━━━━━━━━━━━━━━━\u001b[0m\u001b[37m\u001b[0m \u001b[1m1s\u001b[0m 3ms/step - accuracy: 0.8367 - loss: 0.3816 - precision: 0.8677 - recall: 0.7234 - val_accuracy: 0.8359 - val_loss: 0.4106 - val_precision: 0.8844 - val_recall: 0.7072\n",
      "Epoch 11/50\n",
      "\u001b[1m191/191\u001b[0m \u001b[32m━━━━━━━━━━━━━━━━━━━━\u001b[0m\u001b[37m\u001b[0m \u001b[1m1s\u001b[0m 3ms/step - accuracy: 0.8413 - loss: 0.3838 - precision: 0.8774 - recall: 0.7297 - val_accuracy: 0.8339 - val_loss: 0.4105 - val_precision: 0.8667 - val_recall: 0.7211\n",
      "Epoch 12/50\n",
      "\u001b[1m191/191\u001b[0m \u001b[32m━━━━━━━━━━━━━━━━━━━━\u001b[0m\u001b[37m\u001b[0m \u001b[1m1s\u001b[0m 3ms/step - accuracy: 0.8457 - loss: 0.3610 - precision: 0.8911 - recall: 0.7346 - val_accuracy: 0.8306 - val_loss: 0.4159 - val_precision: 0.8548 - val_recall: 0.7257\n",
      "Epoch 13/50\n",
      "\u001b[1m191/191\u001b[0m \u001b[32m━━━━━━━━━━━━━━━━━━━━\u001b[0m\u001b[37m\u001b[0m \u001b[1m1s\u001b[0m 3ms/step - accuracy: 0.8499 - loss: 0.3550 - precision: 0.8911 - recall: 0.7437 - val_accuracy: 0.8207 - val_loss: 0.4219 - val_precision: 0.8310 - val_recall: 0.7273\n",
      "Epoch 14/50\n",
      "\u001b[1m191/191\u001b[0m \u001b[32m━━━━━━━━━━━━━━━━━━━━\u001b[0m\u001b[37m\u001b[0m \u001b[1m1s\u001b[0m 3ms/step - accuracy: 0.8448 - loss: 0.3549 - precision: 0.8910 - recall: 0.7375 - val_accuracy: 0.8352 - val_loss: 0.4168 - val_precision: 0.8769 - val_recall: 0.7134\n",
      "Epoch 15/50\n",
      "\u001b[1m191/191\u001b[0m \u001b[32m━━━━━━━━━━━━━━━━━━━━\u001b[0m\u001b[37m\u001b[0m \u001b[1m1s\u001b[0m 3ms/step - accuracy: 0.8482 - loss: 0.3516 - precision: 0.8902 - recall: 0.7371 - val_accuracy: 0.8293 - val_loss: 0.4303 - val_precision: 0.8677 - val_recall: 0.7072\n",
      "Epoch 16/50\n",
      "\u001b[1m191/191\u001b[0m \u001b[32m━━━━━━━━━━━━━━━━━━━━\u001b[0m\u001b[37m\u001b[0m \u001b[1m1s\u001b[0m 3ms/step - accuracy: 0.8549 - loss: 0.3322 - precision: 0.8935 - recall: 0.7677 - val_accuracy: 0.8280 - val_loss: 0.4417 - val_precision: 0.8319 - val_recall: 0.7473\n",
      "Epoch 17/50\n",
      "\u001b[1m191/191\u001b[0m \u001b[32m━━━━━━━━━━━━━━━━━━━━\u001b[0m\u001b[37m\u001b[0m \u001b[1m1s\u001b[0m 3ms/step - accuracy: 0.8592 - loss: 0.3347 - precision: 0.8918 - recall: 0.7608 - val_accuracy: 0.8286 - val_loss: 0.4365 - val_precision: 0.8745 - val_recall: 0.6980\n",
      "Epoch 18/50\n",
      "\u001b[1m191/191\u001b[0m \u001b[32m━━━━━━━━━━━━━━━━━━━━\u001b[0m\u001b[37m\u001b[0m \u001b[1m1s\u001b[0m 3ms/step - accuracy: 0.8626 - loss: 0.3339 - precision: 0.8946 - recall: 0.7705 - val_accuracy: 0.8253 - val_loss: 0.4632 - val_precision: 0.8354 - val_recall: 0.7350\n",
      "Epoch 19/50\n",
      "\u001b[1m191/191\u001b[0m \u001b[32m━━━━━━━━━━━━━━━━━━━━\u001b[0m\u001b[37m\u001b[0m \u001b[1m1s\u001b[0m 3ms/step - accuracy: 0.8769 - loss: 0.3006 - precision: 0.9213 - recall: 0.7899 - val_accuracy: 0.8247 - val_loss: 0.4552 - val_precision: 0.8215 - val_recall: 0.7519\n",
      "Epoch 20/50\n",
      "\u001b[1m191/191\u001b[0m \u001b[32m━━━━━━━━━━━━━━━━━━━━\u001b[0m\u001b[37m\u001b[0m \u001b[1m1s\u001b[0m 3ms/step - accuracy: 0.8727 - loss: 0.3054 - precision: 0.9009 - recall: 0.7835 - val_accuracy: 0.8385 - val_loss: 0.4351 - val_precision: 0.8738 - val_recall: 0.7257\n",
      "Epoch 21/50\n",
      "\u001b[1m191/191\u001b[0m \u001b[32m━━━━━━━━━━━━━━━━━━━━\u001b[0m\u001b[37m\u001b[0m \u001b[1m1s\u001b[0m 3ms/step - accuracy: 0.8779 - loss: 0.2870 - precision: 0.9164 - recall: 0.7931 - val_accuracy: 0.8162 - val_loss: 0.4764 - val_precision: 0.8090 - val_recall: 0.7442\n",
      "Epoch 22/50\n",
      "\u001b[1m191/191\u001b[0m \u001b[32m━━━━━━━━━━━━━━━━━━━━\u001b[0m\u001b[37m\u001b[0m \u001b[1m1s\u001b[0m 3ms/step - accuracy: 0.8822 - loss: 0.2845 - precision: 0.9127 - recall: 0.8063 - val_accuracy: 0.8181 - val_loss: 0.4651 - val_precision: 0.8263 - val_recall: 0.7257\n",
      "Epoch 23/50\n",
      "\u001b[1m191/191\u001b[0m \u001b[32m━━━━━━━━━━━━━━━━━━━━\u001b[0m\u001b[37m\u001b[0m \u001b[1m1s\u001b[0m 3ms/step - accuracy: 0.8841 - loss: 0.2800 - precision: 0.9173 - recall: 0.8013 - val_accuracy: 0.8214 - val_loss: 0.4845 - val_precision: 0.8618 - val_recall: 0.6918\n",
      "Epoch 24/50\n",
      "\u001b[1m191/191\u001b[0m \u001b[32m━━━━━━━━━━━━━━━━━━━━\u001b[0m\u001b[37m\u001b[0m \u001b[1m1s\u001b[0m 3ms/step - accuracy: 0.8868 - loss: 0.2667 - precision: 0.9260 - recall: 0.8020 - val_accuracy: 0.8207 - val_loss: 0.4967 - val_precision: 0.8264 - val_recall: 0.7334\n",
      "Epoch 25/50\n",
      "\u001b[1m191/191\u001b[0m \u001b[32m━━━━━━━━━━━━━━━━━━━━\u001b[0m\u001b[37m\u001b[0m \u001b[1m1s\u001b[0m 3ms/step - accuracy: 0.8938 - loss: 0.2605 - precision: 0.9315 - recall: 0.8171 - val_accuracy: 0.8260 - val_loss: 0.5147 - val_precision: 0.8211 - val_recall: 0.7565\n",
      "Epoch 26/50\n",
      "\u001b[1m191/191\u001b[0m \u001b[32m━━━━━━━━━━━━━━━━━━━━\u001b[0m\u001b[37m\u001b[0m \u001b[1m1s\u001b[0m 3ms/step - accuracy: 0.8930 - loss: 0.2592 - precision: 0.9186 - recall: 0.8272 - val_accuracy: 0.8102 - val_loss: 0.5251 - val_precision: 0.8030 - val_recall: 0.7350\n",
      "Epoch 27/50\n",
      "\u001b[1m191/191\u001b[0m \u001b[32m━━━━━━━━━━━━━━━━━━━━\u001b[0m\u001b[37m\u001b[0m \u001b[1m1s\u001b[0m 3ms/step - accuracy: 0.8922 - loss: 0.2520 - precision: 0.9221 - recall: 0.8184 - val_accuracy: 0.8129 - val_loss: 0.5421 - val_precision: 0.8033 - val_recall: 0.7427\n",
      "Epoch 28/50\n",
      "\u001b[1m191/191\u001b[0m \u001b[32m━━━━━━━━━━━━━━━━━━━━\u001b[0m\u001b[37m\u001b[0m \u001b[1m1s\u001b[0m 3ms/step - accuracy: 0.8978 - loss: 0.2467 - precision: 0.9194 - recall: 0.8334 - val_accuracy: 0.8076 - val_loss: 0.5258 - val_precision: 0.7871 - val_recall: 0.7519\n",
      "Epoch 29/50\n",
      "\u001b[1m191/191\u001b[0m \u001b[32m━━━━━━━━━━━━━━━━━━━━\u001b[0m\u001b[37m\u001b[0m \u001b[1m1s\u001b[0m 3ms/step - accuracy: 0.8970 - loss: 0.2353 - precision: 0.9256 - recall: 0.8208 - val_accuracy: 0.8142 - val_loss: 0.5403 - val_precision: 0.8070 - val_recall: 0.7411\n",
      "Epoch 30/50\n",
      "\u001b[1m191/191\u001b[0m \u001b[32m━━━━━━━━━━━━━━━━━━━━\u001b[0m\u001b[37m\u001b[0m \u001b[1m1s\u001b[0m 3ms/step - accuracy: 0.9028 - loss: 0.2246 - precision: 0.9137 - recall: 0.8509 - val_accuracy: 0.8129 - val_loss: 0.5546 - val_precision: 0.8064 - val_recall: 0.7381\n",
      "Epoch 31/50\n",
      "\u001b[1m191/191\u001b[0m \u001b[32m━━━━━━━━━━━━━━━━━━━━\u001b[0m\u001b[37m\u001b[0m \u001b[1m1s\u001b[0m 3ms/step - accuracy: 0.9028 - loss: 0.2264 - precision: 0.9246 - recall: 0.8433 - val_accuracy: 0.8260 - val_loss: 0.5734 - val_precision: 0.8357 - val_recall: 0.7365\n",
      "Epoch 32/50\n",
      "\u001b[1m191/191\u001b[0m \u001b[32m━━━━━━━━━━━━━━━━━━━━\u001b[0m\u001b[37m\u001b[0m \u001b[1m1s\u001b[0m 3ms/step - accuracy: 0.9156 - loss: 0.2012 - precision: 0.9410 - recall: 0.8630 - val_accuracy: 0.8201 - val_loss: 0.6069 - val_precision: 0.8284 - val_recall: 0.7288\n",
      "Epoch 33/50\n",
      "\u001b[1m191/191\u001b[0m \u001b[32m━━━━━━━━━━━━━━━━━━━━\u001b[0m\u001b[37m\u001b[0m \u001b[1m1s\u001b[0m 3ms/step - accuracy: 0.9097 - loss: 0.2224 - precision: 0.9377 - recall: 0.8482 - val_accuracy: 0.8221 - val_loss: 0.6029 - val_precision: 0.8236 - val_recall: 0.7411\n",
      "Epoch 34/50\n",
      "\u001b[1m191/191\u001b[0m \u001b[32m━━━━━━━━━━━━━━━━━━━━\u001b[0m\u001b[37m\u001b[0m \u001b[1m1s\u001b[0m 3ms/step - accuracy: 0.9163 - loss: 0.2120 - precision: 0.9305 - recall: 0.8736 - val_accuracy: 0.8122 - val_loss: 0.5801 - val_precision: 0.8135 - val_recall: 0.7257\n",
      "Epoch 35/50\n",
      "\u001b[1m191/191\u001b[0m \u001b[32m━━━━━━━━━━━━━━━━━━━━\u001b[0m\u001b[37m\u001b[0m \u001b[1m1s\u001b[0m 3ms/step - accuracy: 0.9159 - loss: 0.2068 - precision: 0.9324 - recall: 0.8690 - val_accuracy: 0.8083 - val_loss: 0.5927 - val_precision: 0.7759 - val_recall: 0.7735\n",
      "Epoch 36/50\n",
      "\u001b[1m191/191\u001b[0m \u001b[32m━━━━━━━━━━━━━━━━━━━━\u001b[0m\u001b[37m\u001b[0m \u001b[1m1s\u001b[0m 3ms/step - accuracy: 0.9190 - loss: 0.2031 - precision: 0.9401 - recall: 0.8704 - val_accuracy: 0.8181 - val_loss: 0.6458 - val_precision: 0.7827 - val_recall: 0.7935\n",
      "Epoch 37/50\n",
      "\u001b[1m191/191\u001b[0m \u001b[32m━━━━━━━━━━━━━━━━━━━━\u001b[0m\u001b[37m\u001b[0m \u001b[1m1s\u001b[0m 3ms/step - accuracy: 0.9211 - loss: 0.1834 - precision: 0.9317 - recall: 0.8816 - val_accuracy: 0.8142 - val_loss: 0.5973 - val_precision: 0.8222 - val_recall: 0.7196\n",
      "Epoch 38/50\n",
      "\u001b[1m191/191\u001b[0m \u001b[32m━━━━━━━━━━━━━━━━━━━━\u001b[0m\u001b[37m\u001b[0m \u001b[1m1s\u001b[0m 3ms/step - accuracy: 0.9233 - loss: 0.1810 - precision: 0.9501 - recall: 0.8678 - val_accuracy: 0.8162 - val_loss: 0.6633 - val_precision: 0.8000 - val_recall: 0.7581\n",
      "Epoch 39/50\n",
      "\u001b[1m191/191\u001b[0m \u001b[32m━━━━━━━━━━━━━━━━━━━━\u001b[0m\u001b[37m\u001b[0m \u001b[1m1s\u001b[0m 3ms/step - accuracy: 0.9245 - loss: 0.1864 - precision: 0.9373 - recall: 0.8803 - val_accuracy: 0.8083 - val_loss: 0.6340 - val_precision: 0.7793 - val_recall: 0.7673\n",
      "Epoch 40/50\n",
      "\u001b[1m191/191\u001b[0m \u001b[32m━━━━━━━━━━━━━━━━━━━━\u001b[0m\u001b[37m\u001b[0m \u001b[1m1s\u001b[0m 3ms/step - accuracy: 0.9193 - loss: 0.1831 - precision: 0.9322 - recall: 0.8738 - val_accuracy: 0.8129 - val_loss: 0.6336 - val_precision: 0.7917 - val_recall: 0.7612\n",
      "Epoch 41/50\n",
      "\u001b[1m191/191\u001b[0m \u001b[32m━━━━━━━━━━━━━━━━━━━━\u001b[0m\u001b[37m\u001b[0m \u001b[1m1s\u001b[0m 3ms/step - accuracy: 0.9266 - loss: 0.1692 - precision: 0.9423 - recall: 0.8835 - val_accuracy: 0.8129 - val_loss: 0.7425 - val_precision: 0.7766 - val_recall: 0.7874\n",
      "Epoch 42/50\n",
      "\u001b[1m191/191\u001b[0m \u001b[32m━━━━━━━━━━━━━━━━━━━━\u001b[0m\u001b[37m\u001b[0m \u001b[1m1s\u001b[0m 3ms/step - accuracy: 0.9177 - loss: 0.1895 - precision: 0.9376 - recall: 0.8663 - val_accuracy: 0.8102 - val_loss: 0.7206 - val_precision: 0.7866 - val_recall: 0.7612\n",
      "Epoch 43/50\n",
      "\u001b[1m191/191\u001b[0m \u001b[32m━━━━━━━━━━━━━━━━━━━━\u001b[0m\u001b[37m\u001b[0m \u001b[1m1s\u001b[0m 3ms/step - accuracy: 0.9285 - loss: 0.1667 - precision: 0.9485 - recall: 0.8829 - val_accuracy: 0.8056 - val_loss: 0.6661 - val_precision: 0.7908 - val_recall: 0.7396\n",
      "Epoch 44/50\n",
      "\u001b[1m191/191\u001b[0m \u001b[32m━━━━━━━━━━━━━━━━━━━━\u001b[0m\u001b[37m\u001b[0m \u001b[1m1s\u001b[0m 3ms/step - accuracy: 0.9266 - loss: 0.1735 - precision: 0.9470 - recall: 0.8820 - val_accuracy: 0.8076 - val_loss: 0.7037 - val_precision: 0.7755 - val_recall: 0.7720\n",
      "Epoch 45/50\n",
      "\u001b[1m191/191\u001b[0m \u001b[32m━━━━━━━━━━━━━━━━━━━━\u001b[0m\u001b[37m\u001b[0m \u001b[1m1s\u001b[0m 3ms/step - accuracy: 0.9321 - loss: 0.1695 - precision: 0.9457 - recall: 0.8930 - val_accuracy: 0.8227 - val_loss: 0.7341 - val_precision: 0.8414 - val_recall: 0.7196\n",
      "Epoch 46/50\n",
      "\u001b[1m191/191\u001b[0m \u001b[32m━━━━━━━━━━━━━━━━━━━━\u001b[0m\u001b[37m\u001b[0m \u001b[1m1s\u001b[0m 3ms/step - accuracy: 0.9375 - loss: 0.1516 - precision: 0.9481 - recall: 0.9009 - val_accuracy: 0.8175 - val_loss: 0.7278 - val_precision: 0.8046 - val_recall: 0.7550\n",
      "Epoch 47/50\n",
      "\u001b[1m191/191\u001b[0m \u001b[32m━━━━━━━━━━━━━━━━━━━━\u001b[0m\u001b[37m\u001b[0m \u001b[1m1s\u001b[0m 3ms/step - accuracy: 0.9290 - loss: 0.1616 - precision: 0.9348 - recall: 0.8919 - val_accuracy: 0.8063 - val_loss: 0.7574 - val_precision: 0.7774 - val_recall: 0.7643\n",
      "Epoch 48/50\n",
      "\u001b[1m191/191\u001b[0m \u001b[32m━━━━━━━━━━━━━━━━━━━━\u001b[0m\u001b[37m\u001b[0m \u001b[1m1s\u001b[0m 3ms/step - accuracy: 0.9347 - loss: 0.1513 - precision: 0.9493 - recall: 0.8922 - val_accuracy: 0.8116 - val_loss: 0.7814 - val_precision: 0.8068 - val_recall: 0.7334\n",
      "Epoch 49/50\n",
      "\u001b[1m191/191\u001b[0m \u001b[32m━━━━━━━━━━━━━━━━━━━━\u001b[0m\u001b[37m\u001b[0m \u001b[1m1s\u001b[0m 3ms/step - accuracy: 0.9305 - loss: 0.1701 - precision: 0.9495 - recall: 0.8844 - val_accuracy: 0.8024 - val_loss: 0.7436 - val_precision: 0.7727 - val_recall: 0.7596\n",
      "Epoch 50/50\n",
      "\u001b[1m191/191\u001b[0m \u001b[32m━━━━━━━━━━━━━━━━━━━━\u001b[0m\u001b[37m\u001b[0m \u001b[1m1s\u001b[0m 3ms/step - accuracy: 0.9296 - loss: 0.1590 - precision: 0.9463 - recall: 0.8868 - val_accuracy: 0.8089 - val_loss: 0.7751 - val_precision: 0.7973 - val_recall: 0.7396\n"
     ]
    }
   ],
   "source": [
    "from tensorflow.keras.layers import Dense, Input, Dropout, SimpleRNN, GRU, LSTM, BatchNormalization, Flatten\n",
    "from tensorflow.keras import Model, Sequential\n",
    "# input_text = Input(shape = X_train_padded.shape[1:])\n",
    "# dropout = Dropout(0.4)(input_text)\n",
    "# dense = Dense(16, activation='relu')(dropout)\n",
    "# dropout_2 = Dropout(0.4)(dense)\n",
    "# dense_2 = Dense(16, activation='relu')(dropout_2)\n",
    "# pred = Dense(1, activation='sigmoid')(dense_2)\n",
    "# model = Model(inputs=[input_text], outputs=pred)\n",
    "\n",
    "model = Sequential([\n",
    "    Input(shape=(1024,)),\n",
    "    Dense(128, activation='relu'),\n",
    "    # GRU(8, return_sequences = True, dropout=0.2, recurrent_dropout=0.2),\n",
    "    # GRU(8, return_sequences=True, dropout=0.2, recurrent_dropout=0.2, activation=\"relu\"),\n",
    "    # LSTM(4, dropout=0.3, recurrent_dropout=0.3, activation=\"tanh\", recurrent_activation=\"sigmoid\"),\n",
    "    # Dense(64, activation='relu'),\n",
    "    # BatchNormalization(),  # Batch normalization layer\n",
    "    Dropout(0.5),  # Dropout layer to prevent overfitting\n",
    "    Dense(16, activation='relu'),\n",
    "    Dropout(0.5),\n",
    "\n",
    "    Dense(1, activation='sigmoid')\n",
    "])\n",
    "model.compile(loss='binary_crossentropy', optimizer='adam', metrics=['accuracy', \"precision\", \"recall\"])\n",
    "model.summary()\n",
    "\n",
    "history = model.fit(X_train_padded, \n",
    "          y_train,\n",
    "          validation_data=(X_val_padded, y_val),\n",
    "          epochs=50,\n",
    "          batch_size=32)"
   ]
  },
  {
   "cell_type": "code",
   "execution_count": 68,
   "metadata": {},
   "outputs": [
    {
     "data": {
      "image/png": "[encoded data removed]",
      "text/plain": [
       "<Figure size 1200x600 with 2 Axes>"
      ]
     },
     "metadata": {},
     "output_type": "display_data"
    }
   ],
   "source": [
    "# Plot the training and validation loss\n",
    "import matplotlib.pyplot as plt\n",
    "\n",
    "plt.figure(figsize=(12, 6))\n",
    "ax = plt.subplot(1, 2, 1)\n",
    "plt.plot(history.history['precision'])\n",
    "plt.plot(history.history[\"recall\"])\n",
    "plt.title('Training Precision and Recall')\n",
    "plt.legend(['precision', 'recall'])\n",
    "ax = plt.subplot(1, 2, 2)\n",
    "plt.plot(history.history['val_precision'])\n",
    "plt.plot(history.history[\"val_recall\"])\n",
    "plt.title('Validation Precision and Recall')\n",
    "plt.legend(['val_precision', 'val_recall'])\n",
    "plt.show()\n"
   ]
  },
  {
   "cell_type": "code",
   "execution_count": null,
   "metadata": {},
   "outputs": [
    {
     "data": {
      "text/plain": [
       "dict_keys(['accuracy', 'loss', 'precision', 'recall', 'val_accuracy', 'val_loss', 'val_precision', 'val_recall'])"
      ]
     },
     "execution_count": 284,
     "metadata": {},
     "output_type": "execute_result"
    }
   ],
   "source": [
    "history.history.keys()"
   ]
  },
  {
   "cell_type": "code",
   "execution_count": 59,
   "metadata": {},
   "outputs": [
    {
     "name": "stdout",
     "output_type": "stream",
     "text": [
      "\u001b[1m48/48\u001b[0m \u001b[32m━━━━━━━━━━━━━━━━━━━━\u001b[0m\u001b[37m\u001b[0m \u001b[1m0s\u001b[0m 6ms/step - accuracy: 0.8144 - loss: 0.4971 - precision: 0.8143 - recall: 0.7366\n",
      "Validation score: [0.4695078730583191, 0.8200919032096863, 0.8109452724456787, 0.7534668445587158]\n"
     ]
    }
   ],
   "source": [
    "# Test dataset\n",
    "\n",
    "lstm_one_score = model.evaluate(X_val_padded, y_val)\n",
    "print(\"Validation score:\", lstm_one_score)\n"
   ]
  },
  {
   "cell_type": "code",
   "execution_count": 54,
   "metadata": {},
   "outputs": [
    {
     "ename": "NameError",
     "evalue": "name 'lstm_big_score' is not defined",
     "output_type": "error",
     "traceback": [
      "\u001b[1;31m---------------------------------------------------------------------------\u001b[0m",
      "\u001b[1;31mNameError\u001b[0m                                 Traceback (most recent call last)",
      "Cell \u001b[1;32mIn[54], line 1\u001b[0m\n\u001b[1;32m----> 1\u001b[0m lstm_three_score \u001b[38;5;241m=\u001b[39m \u001b[43mlstm_big_score\u001b[49m\n",
      "\u001b[1;31mNameError\u001b[0m: name 'lstm_big_score' is not defined"
     ]
    }
   ],
   "source": [
    "lstm_three_score = lstm_big_score"
   ]
  },
  {
   "cell_type": "code",
   "execution_count": 67,
   "metadata": {},
   "outputs": [
    {
     "name": "stdout",
     "output_type": "stream",
     "text": [
      "Validation score: 0.8371634931057124\n"
     ]
    }
   ],
   "source": [
    "from sklearn.svm import SVC\n",
    "svc = SVC()\n",
    "svc.fit(X_train_padded, y_train)\n",
    "score = svc.score(X_val_padded, y_val)\n",
    "print(\"Validation score:\", score)"
   ]
  },
  {
   "cell_type": "code",
   "execution_count": 71,
   "metadata": {},
   "outputs": [],
   "source": [
    "y_val_hat = svc.predict(X_val_padded)\n",
    "df_val = pd.DataFrame({\"text\": X_val, \"target\": y_val, \"pred\": y_val_hat, \"correct\": y_val == y_val_hat})\n",
    "df_val.to_csv(\"SVC_validation.csv\")"
   ]
  }
 ],
 "metadata": {
  "kernelspec": {
   "display_name": "Python 3",
   "language": "python",
   "name": "python3"
  },
  "language_info": {
   "codemirror_mode": {
    "name": "ipython",
    "version": 3
   },
   "file_extension": ".py",
   "mimetype": "text/x-python",
   "name": "python",
   "nbconvert_exporter": "python",
   "pygments_lexer": "ipython3",
   "version": "3.11.9"
  }
 },
 "nbformat": 4,
 "nbformat_minor": 2
}
